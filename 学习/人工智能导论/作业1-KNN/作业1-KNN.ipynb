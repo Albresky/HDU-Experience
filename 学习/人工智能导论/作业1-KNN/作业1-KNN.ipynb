{
 "cells": [
  {
   "cell_type": "markdown",
   "metadata": {},
   "source": [
    "# 作业1\n",
    "\n",
    "在这次作业中，我们将尝试提取基本的图像特征并使用提取的特征进行图像分类。  \n",
    "\n",
    "__你需要在TODO模块的 `\"\"\"你的代码\"\"\" `中填写相应的代码。__\n",
    "\n",
    "你也可以添加任意数量的 cell 来辅助你完成实验。"
   ]
  },
  {
   "cell_type": "code",
   "execution_count": 1,
   "metadata": {},
   "outputs": [],
   "source": [
    "import random\n",
    "import numpy as np\n",
    "import matplotlib.pyplot as plt\n",
    "from past.builtins import xrange\n",
    "%matplotlib inline\n",
    "plt.rcParams['figure.figsize'] = (15., 12.) # 设置默认大小\n",
    "plt.rcParams['image.interpolation'] = 'nearest'\n",
    "plt.rcParams['image.cmap'] = 'gray'\n",
    "\n",
    "%load_ext autoreload\n",
    "%autoreload 2"
   ]
  },
  {
   "cell_type": "markdown",
   "metadata": {},
   "source": [
    "## 数据加载\n",
    "\n",
    "理解该数据集的类型以及访问方式"
   ]
  },
  {
   "cell_type": "code",
   "execution_count": 2,
   "metadata": {},
   "outputs": [
    {
     "name": "stdout",
     "output_type": "stream",
     "text": [
      "(5000, 32, 32, 3)\n",
      "(500, 32, 32, 3)\n",
      "(500, 32, 32, 3)\n"
     ]
    }
   ],
   "source": [
    "# 读取提供的cifar10-mini数据集，\n",
    "data = np.load('cifar10-mini.npz')\n",
    "\n",
    "X_train= data['X_train']\n",
    "X_val= data['X_val']\n",
    "X_test= data['X_test']\n",
    "\n",
    "y_train= data['y_train']\n",
    "y_val= data['y_val']\n",
    "y_test= data['y_test']\n",
    "\n",
    "# 打印数据shape\n",
    "print(X_train.shape)\n",
    "print(X_val.shape)\n",
    "print(X_test.shape)"
   ]
  },
  {
   "cell_type": "code",
   "execution_count": 3,
   "metadata": {},
   "outputs": [
    {
     "name": "stdout",
     "output_type": "stream",
     "text": [
      "(32, 32, 3)\n"
     ]
    },
    {
     "data": {
      "text/plain": [
       "<matplotlib.image.AxesImage at 0x7fa5d14d4b50>"
      ]
     },
     "execution_count": 3,
     "metadata": {},
     "output_type": "execute_result"
    },
    {
     "data": {
      "image/png": "[encoded data removed]",
      "text/plain": [
       "<Figure size 1080x864 with 1 Axes>"
      ]
     },
     "metadata": {
      "needs_background": "light"
     },
     "output_type": "display_data"
    }
   ],
   "source": [
    "# 查看数据集图像\n",
    "pic_index = 1 #第几张图片\n",
    "print(X_train[pic_index].shape)\n",
    "plt.imshow(X_train[pic_index].astype(int))"
   ]
  },
  {
   "cell_type": "code",
   "execution_count": 15,
   "metadata": {},
   "outputs": [
    {
     "data": {
      "text/plain": [
       "<matplotlib.image.AxesImage at 0x7fdf3cab3a00>"
      ]
     },
     "execution_count": 15,
     "metadata": {},
     "output_type": "execute_result"
    },
    {
     "data": {
      "image/png": "[encoded data removed]",
      "text/plain": [
       "<Figure size 1080x864 with 1 Axes>"
      ]
     },
     "metadata": {
      "needs_background": "light"
     },
     "output_type": "display_data"
    }
   ],
   "source": [
    "demo_img = X_train[pic_index]\n",
    "channel_id = 1\n",
    "black_demo = demo_img[:,:,channel_id]\n",
    "plt.imshow(black_demo)\n"
   ]
  },
  {
   "cell_type": "markdown",
   "metadata": {},
   "source": [
    "## 提取图像特征\n",
    "[方向梯度直方图 HOG (Histogram of Oriented Gridients)](http://blog.csdn.net/zouxy09/article/details/7929348)特征检测算法，最早是由法国研究员Dalal等在CVPR-2005上提出来的，一种解决人体目标检测的图像描述子，是一种用于表征图像局部梯度方向和梯度强度分布特性的描述符。其主要思想是：在边缘具体位置未知的情况下，边缘方向的分布也可以很好的表示图像中物体的外形轮廓，但会忽略掉颜色信息。特征维度是144维\n",
    "\n",
    "[颜色直方图 (color histogram)](https://baike.baidu.com/item/颜色直方图)特征则是提取图像的颜色信息并忽略掉纹理信息。因此同时使用这两种特征的分类效果会好于仅使用单一特征，__【加分项】你可以尝试进行对比实验验证这一假设__\n",
    "\n",
    "`hog_feature` 和 `color_histogram_hsv` 两个函数都是接收一张图像然后返回这张图像的特征向量。你可以使用这两个函数中的一个提取所有图像的特征并将其存入 `X_train_feats, X_val_feats, X_test_feats` 这三个变量中（他们分别代表训练集、验证集和测试集的特征）。\n",
    "\n",
    "如果你遇到了错误 `ImportError: No module named past.builtins`，可以在终端中执行 `pip install future`"
   ]
  },
  {
   "cell_type": "code",
   "execution_count": 3,
   "metadata": {},
   "outputs": [],
   "source": [
    "from features import *\n",
    "\n",
    "################################################################################\n",
    "# TODO:                                                                        #\n",
    "# 你需要使用 hog_feature, color_histogram_hsv 两个函数完成特征的提取           #\n",
    "# 你可以在 features.py 中查看这两个函数的代码                                  #\n",
    "################################################################################\n",
    "\"\"\"你的代码\"\"\"\n",
    "X_train_feats = extract_features(X_train,[hog_feature,color_histogram_hsv])\n",
    "X_val_feats = extract_features(X_val,[hog_feature,color_histogram_hsv])\n",
    "X_test_feats = extract_features(X_test,[hog_feature,color_histogram_hsv])\n",
    "\n",
    "################################################################################\n",
    "#                                 END OF YOUR CODE                             #\n",
    "################################################################################\n",
    "\n",
    "    \n",
    "# 预处理: 减去均值\n",
    "mean_feat = np.mean(X_train_feats, axis=0, keepdims=True)\n",
    "X_train_feats -= mean_feat\n",
    "\n",
    "mean_feat = np.mean(X_val_feats, axis=0, keepdims=True)\n",
    "X_val_feats -= mean_feat\n",
    "\n",
    "mean_feat = np.mean(X_test_feats, axis=0, keepdims=True)\n",
    "X_test_feats -= mean_feat\n",
    "\n",
    "# 预处理: 除以标准差，这能保证所有的值在 0～1 之间\n",
    "std_feat = np.std(X_train_feats, axis=0, keepdims=True)\n",
    "X_train_feats /= std_feat\n",
    "\n",
    "std_feat = np.std(X_val_feats, axis=0, keepdims=True)\n",
    "X_val_feats /= std_feat\n",
    "\n",
    "std_feat = np.std(X_test_feats, axis=0, keepdims=True)\n",
    "X_test_feats /= std_feat\n",
    "\n",
    "# 预处理: 增加一个偏置值，在 K-NN 中，该步操作并无必要，但增加偏置值对其他分类器如 SVM 等有帮助。\n",
    "X_train_feats = np.hstack([X_train_feats, np.ones((X_train_feats.shape[0], 1))])\n",
    "X_val_feats = np.hstack([X_val_feats, np.ones((X_val_feats.shape[0], 1))])\n",
    "X_test_feats = np.hstack([X_test_feats, np.ones((X_test_feats.shape[0], 1))])"
   ]
  },
  {
   "cell_type": "markdown",
   "metadata": {},
   "source": [
    "## 使用 k-NN 算法对图像进行分类\n",
    "\n",
    "使用上面提取的特征执行 k-NN 算法对图像分类，在这里，__【加分项】你也可以实验对比使用 HOG特征、颜色直方图特征与使用图像原始特征（像素）哪个好。或者尝试特征拼接。__\n",
    "\n",
    "这里你需要补全`KNearestNeighbor`类中的部分关键函数的代码，包括`compute_distances_one_loop`,`compute_distances_two_loop`,`compute_distances_no_loop`\n",
    "\n",
    "\n",
    "你可能需要认真阅读玩下面两篇文章后才能完成这部分作业：\n",
    "\n",
    "- [CS231n课程笔记翻译：图像分类笔记（上）](https://zhuanlan.zhihu.com/p/20894041?refer=intelligentunit)\n",
    "- [CS231n课程笔记翻译：图像分类笔记（下）](https://zhuanlan.zhihu.com/p/20900216?refer=intelligentunit)"
   ]
  },
  {
   "cell_type": "code",
   "execution_count": 4,
   "metadata": {},
   "outputs": [],
   "source": [
    "class KNearestNeighbor(object):\n",
    "    \"\"\" 使用L2距离的kNN分类器 \"\"\"\n",
    "    def __init__(self):\n",
    "        pass\n",
    "    \n",
    "    def train(self, X, y):\n",
    "        \"\"\" \n",
    "        训练分类器 \n",
    "        \n",
    "        输入：\n",
    "        - X: 一个形状为(num_train, D)的numpy数组，包含训练数据。\n",
    "        - y: 一个形状为(num_train,)的numpy数组，包含训练标签，其中 y[i]是X[i]的标签。\n",
    "        \"\"\"\n",
    "        self.X_train = X\n",
    "        self.y_train = y\n",
    "    \n",
    "    def predict(self, X, k=1, num_loops=0):\n",
    "        \"\"\"\n",
    "        使用该分类器预测测试数据的标签。\n",
    "        \n",
    "        输入：\n",
    "        - X: 一个形状为(num_test, D)的numpy数组，包含测试数据。\n",
    "        - k: 为预测标签投票的近邻的数量。\n",
    "        - num_loops: 决定使用哪种方法来计算训练点和测试点之间的距离。训练点和测试点之间的距离。\n",
    "        \n",
    "        输出：\n",
    "        - y: 一个形状为(num_test,)的numpy数组，包含测试数据的预测标签。测试数据的预测标签，其中y[i]是测试点X[i]的预测标签。\n",
    "        \"\"\"\n",
    "        if num_loops == 0:\n",
    "            dists = self.compute_distances_no_loops(X)\n",
    "        elif num_loops == 1:\n",
    "            dists = self.compute_distances_one_loop(X)\n",
    "        elif num_loops == 2:\n",
    "            dists = self.compute_distances_two_loops(X)\n",
    "        else:\n",
    "            raise ValueError('Invalid value %d for num_loops' % num_loops)\n",
    "\n",
    "        return self.predict_labels(dists, k=k)\n",
    "\n",
    "    def compute_distances_two_loops(self, X):\n",
    "        \"\"\"\n",
    "        计算X中每个测试点和self.X_train中每个训练点之间的距离。\n",
    "        需要使用一个嵌套循环。\n",
    "\n",
    "        输入:\n",
    "        - X：一个形状为(num_test, D)的numpy数组，包含测试数据。\n",
    "\n",
    "        输出:\n",
    "        - dists: 一个形状为(num_test, num_train)的numpy数组，其中dists[i, j] 是第i个测试点和第j个训练点之间的欧几里得距离。\n",
    "        \"\"\"\n",
    "        num_test = X.shape[0]\n",
    "        num_train = self.X_train.shape[0]\n",
    "        dists = np.zeros((num_test, num_train))\n",
    "        for i in xrange(num_test):\n",
    "            for j in xrange(num_train):\n",
    "                #####################################################################\n",
    "                # TODO:                                                             #\n",
    "                # 计算第i个测试点和第j个训练点之间的l2距离，并将结果存入dists[i, j]中\n",
    "                #####################################################################\n",
    "                \"\"\"你的代码\"\"\"\n",
    "                dists[i,j] = np.sqrt(np.sum(np.square(self.X_train[j,:] - X[i,:])))\n",
    "                #####################################################################\n",
    "                #                       END OF YOUR CODE                            #\n",
    "                #####################################################################\n",
    "        return dists\n",
    "\n",
    "    def compute_distances_one_loop(self, X):\n",
    "        \"\"\"\n",
    "        计算X中每个测试点和self.X_train中每个训练点之间的距离。\n",
    "        只需在测试数据上进行一次循环。\n",
    "\n",
    "        输入/输出。与compute_distances_two_loops相同\n",
    "        \"\"\"\n",
    "        num_test = X.shape[0]\n",
    "        num_train = self.X_train.shape[0]\n",
    "        dists = np.zeros((num_test, num_train))\n",
    "        for i in xrange(num_test):\n",
    "            #######################################################################\n",
    "            # TODO:                                                               #\n",
    "            # 计算第i个测试点和所有训练点之间的l2距离，并将结果存入dists[i, :]中。#\n",
    "            #######################################################################\n",
    "            \"\"\"你的代码\"\"\"\n",
    "            dists[i] = np.sqrt(np.sum(np.square(self.X_train - X[i]), axis = 1))\n",
    "            #######################################################################\n",
    "            #                         END OF YOUR CODE                            #\n",
    "            #######################################################################\n",
    "        return dists\n",
    "\n",
    "    def compute_distances_no_loops(self, X):\n",
    "        \"\"\"\n",
    "        计算X中每个测试点和self.X_train中每个训练点之间的距离，不使用显式循环。\n",
    "\n",
    "        输入/输出。与compute_distances_two_loops相同\n",
    "        \"\"\"\n",
    "        num_test = X.shape[0]\n",
    "        num_train = self.X_train.shape[0]\n",
    "        dists = np.zeros((num_test, num_train)) \n",
    "        ##########################################################################\n",
    "        # TODO:                                                                  #\n",
    "        # 计算所有测试点和所有训练点之间的l2距离，不使用任何显式循环             #\n",
    "        # 并将结果存储在dists中                                                  #\n",
    "        ##########################################################################\n",
    "        \"\"\"你的代码\"\"\"\n",
    "        M = np.dot(X, self.X_train.T)\n",
    "        nrow = M.shape[0]\n",
    "        ncol = M.shape[1]\n",
    "        te = np.diag(np.dot(X, X.T))\n",
    "        tr = np.diag(np.dot(self.X_train, self.X_train.T))\n",
    "        te = np.reshape(np.repeat(te, ncol), M.shape)\n",
    "        tr = np.reshape(np.repeat(tr, nrow), M.T.shape)\n",
    "        sq = -2 * M + te + tr.T\n",
    "        dists = np.sqrt(sq)\n",
    "        ##########################################################################\n",
    "        #                         END OF YOUR CODE                               #\n",
    "        ##########################################################################\n",
    "        return dists\n",
    "\n",
    "    def predict_labels(self, dists, k=1):\n",
    "        \"\"\"\n",
    "        给出一个测试点和训练点之间距离的矩阵。为每个测试点预测一个标签。\n",
    "\n",
    "        输入:\n",
    "        - dists: 一个形状为(num_test, num_train)的numpy数组，\n",
    "        其中dists[i, j] ... 表示第i个测试点和第j个训练点之间的距离。\n",
    "\n",
    "        输出:\n",
    "        - y: 一个形状为(num_test,)的numpy数组，包含测试数据的预测标签。\n",
    "        其中y[i]是测试点X[i]的预测标签。 \n",
    "        \"\"\"\n",
    "        num_test = dists.shape[0]\n",
    "        y_pred = np.zeros(num_test)\n",
    "        for i in xrange(num_test):\n",
    "            # 一个长度为k的列表，存储第i个测试点的k个最近的邻居的标签。\n",
    "            closest_y = []\n",
    "\n",
    "            # 使用距离矩阵找到第1个测试点的k个最近的邻居，并使用self.y_train来找到这些邻居的标签。#\n",
    "            # 将这些标签存储在closest_y中。                                               #\n",
    "            k_nearest_idxs = np.argsort(dists[i, :])[:k]\n",
    "            closest_y = self.y_train[k_nearest_idxs]\n",
    "            \n",
    "            # 找到标签列表closest_y中最常见的标签，将这个标签存入y_pred[i]。                                                  #\n",
    "            y_pred[i] = np.argmax(np.bincount(closest_y))\n",
    "\n",
    "        return y_pred"
   ]
  },
  {
   "cell_type": "code",
   "execution_count": 5,
   "metadata": {},
   "outputs": [
    {
     "name": "stdout",
     "output_type": "stream",
     "text": [
      "{}\n"
     ]
    }
   ],
   "source": [
    "# 实例化\n",
    "classifier = KNearestNeighbor()\n",
    "# 训练KNN分类器\n",
    "classifier.train(X_train_feats, y_train)\n",
    "\n",
    "# 使用验证集调整 k 的值\n",
    "k_choices = [1, 3, 5, 8, 10, 12, 15, 20, 50, 100]\n",
    "k_to_accuracies = {} # 用来存储结果\n",
    "\n",
    "##########################################################################################\n",
    "# TODO:                                                                                  #\n",
    "# 你需要从 k_choice 中找出最好的 k                                                       #\n",
    "# 如果accuracy <= 0.1， 说明结果不对，随机猜的准确率是0.1，需要修改k_nearest_neighbor.py #\n",
    "##########################################################################################\n",
    "\n",
    "#遍历所有的k，在验证集上进行结果测试分类的准确性\n",
    "for k in k_choices:\n",
    "    \"\"\"你的代码\"\"\"\n",
    "\n",
    "##########################################################################################\n",
    "#                                 END OF YOUR CODE                                       #\n",
    "##########################################################################################\n",
    "\n",
    "print(k_to_accuracies)"
   ]
  },
  {
   "cell_type": "code",
   "execution_count": 7,
   "metadata": {},
   "outputs": [
    {
     "name": "stdout",
     "output_type": "stream",
     "text": [
      "0.308\n"
     ]
    }
   ],
   "source": [
    "# 评估你的算法\n",
    "##########################################################################################\n",
    "# TODO:                                                                                  #\n",
    "# 根据验证集的结果，选择合适的K值，并在测试集上测试结果                                  #\n",
    "\"\"\"你的代码\"\"\"\n",
    "best_k = 12  # 填你上面选出的 K 值 \n",
    "##########################################################################################\n",
    "#                                 END OF YOUR CODE                                       #\n",
    "##########################################################################################\n",
    "\n",
    "# 计算测试集上准确率\n",
    "y_test_pred = classifier.predict(X_test_feats, k=best_k)\n",
    "test_accuracy = np.mean(y_test == y_test_pred)\n",
    "print(test_accuracy)"
   ]
  },
  {
   "cell_type": "code",
   "execution_count": null,
   "metadata": {},
   "outputs": [],
   "source": []
  }
 ],
 "metadata": {
  "anaconda-cloud": {},
  "kernelspec": {
   "display_name": "Python 3.9.0 64-bit",
   "language": "python",
   "name": "python3"
  },
  "language_info": {
   "codemirror_mode": {
    "name": "ipython",
    "version": 3
   },
   "file_extension": ".py",
   "mimetype": "text/x-python",
   "name": "python",
   "nbconvert_exporter": "python",
   "pygments_lexer": "ipython3",
   "version": "3.9.0"
  },
  "toc": {
   "base_numbering": 1,
   "nav_menu": {},
   "number_sections": true,
   "sideBar": true,
   "skip_h1_title": false,
   "title_cell": "Table of Contents",
   "title_sidebar": "Contents",
   "toc_cell": false,
   "toc_position": {},
   "toc_section_display": true,
   "toc_window_display": false
  },
  "vscode": {
   "interpreter": {
    "hash": "397704579725e15f5c7cb49fe5f0341eb7531c82d19f2c29d197e8b64ab5776b"
   }
  }
 },
 "nbformat": 4,
 "nbformat_minor": 1
}
