{
 "cells": [
  {
   "cell_type": "code",
   "execution_count": 1,
   "metadata": {},
   "outputs": [],
   "source": [
    "import random\n",
    "import numpy as np\n",
    "import matplotlib.pyplot as plt\n",
    "from past.builtins import xrange\n",
    "%matplotlib inline\n",
    "plt.rcParams['figure.figsize'] = (15., 12.) # 设置默认大小\n",
    "plt.rcParams['image.interpolation'] = 'nearest'\n",
    "plt.rcParams['image.cmap'] = 'gray'\n",
    "\n",
    "%load_ext autoreload\n",
    "%autoreload 2"
   ]
  },
  {
   "cell_type": "code",
   "execution_count": 2,
   "metadata": {},
   "outputs": [
    {
     "name": "stdout",
     "output_type": "stream",
     "text": [
      "(5000, 32, 32, 3)\n",
      "(500, 32, 32, 3)\n",
      "(500, 32, 32, 3)\n"
     ]
    }
   ],
   "source": [
    "# 读取提供的cifar10-mini数据集，\n",
    "data = np.load('cifar10-mini.npz')\n",
    "\n",
    "X_train= data['X_train']\n",
    "X_val= data['X_val']\n",
    "X_test= data['X_test']\n",
    "y_train= data['y_train']\n",
    "y_val= data['y_val']\n",
    "y_test= data['y_test']\n",
    "\n",
    "# 打印数据shape\n",
    "print(X_train.shape)\n",
    "print(X_val.shape)\n",
    "print(X_test.shape)"
   ]
  },
  {
   "cell_type": "code",
   "execution_count": 4,
   "metadata": {},
   "outputs": [
    {
     "data": {
      "text/plain": [
       "<matplotlib.image.AxesImage at 0x7fb55651fe80>"
      ]
     },
     "execution_count": 4,
     "metadata": {},
     "output_type": "execute_result"
    },
    {
     "data": {
      "image/png": "[encoded data removed]",
      "text/plain": [
       "<Figure size 1080x864 with 1 Axes>"
      ]
     },
     "metadata": {
      "needs_background": "light"
     },
     "output_type": "display_data"
    }
   ],
   "source": [
    "# 查看数据集图像\n",
    "pic_index = 1 #第几张图片\n",
    "plt.imshow(X_train[pic_index].astype(int))"
   ]
  },
  {
   "cell_type": "code",
   "execution_count": 94,
   "metadata": {},
   "outputs": [],
   "source": [
    "from features import *\n",
    "\n",
    "################################################################################\n",
    "# TODO:                                                                        #\n",
    "# 你需要使用 hog_feature, color_histogram_hsv 两个函数完成特征的提取           #\n",
    "# 你可以在 features.py 中查看这两个函数的代码                                  #\n",
    "################################################################################\n",
    "\"\"\"你的代码\"\"\"\n",
    "\"\"\"HOG+Hist\"\"\"\n",
    "# X_train_feats = extract_features(X_train,[hog_feature,color_histogram_hsv])\n",
    "# X_val_feats = extract_features(X_val,[hog_feature,color_histogram_hsv])\n",
    "# X_test_feats = extract_features(X_test,[hog_feature,color_histogram_hsv])\n",
    "\"\"\"HOG\"\"\"\n",
    "# X_train_feats = extract_features(X_train,[hog_feature])\n",
    "# X_val_feats = extract_features(X_val,[hog_feature])\n",
    "# X_test_feats = extract_features(X_test,[hog_feature])\n",
    "\"\"\"Hist\"\"\"\n",
    "# X_train_feats = extract_features(X_train,[color_histogram_hsv])\n",
    "# X_val_feats = extract_features(X_val,[color_histogram_hsv])\n",
    "# X_test_feats = extract_features(X_test,[color_histogram_hsv])\n",
    "\"\"\"onlypix\"\"\"\n",
    "X_train_feats = extract_features(X_train,[only_pixel])\n",
    "X_val_feats = extract_features(X_val,[only_pixel])\n",
    "X_test_feats = extract_features(X_test,[only_pixel])\n",
    "    \n",
    "# 预处理: 减去均值\n",
    "mean_feat = np.mean(X_train_feats, axis=0, keepdims=True)\n",
    "X_train_feats -= mean_feat\n",
    "\n",
    "mean_feat = np.mean(X_val_feats, axis=0, keepdims=True)\n",
    "X_val_feats -= mean_feat\n",
    "\n",
    "mean_feat = np.mean(X_test_feats, axis=0, keepdims=True)\n",
    "X_test_feats -= mean_feat\n",
    "\n",
    "# 预处理: 除以标准差，这能保证所有的值在 0～1 之间\n",
    "std_feat = np.std(X_train_feats, axis=0, keepdims=True)\n",
    "X_train_feats /= std_feat\n",
    "\n",
    "std_feat = np.std(X_val_feats, axis=0, keepdims=True)\n",
    "X_val_feats /= std_feat\n",
    "\n",
    "std_feat = np.std(X_test_feats, axis=0, keepdims=True)\n",
    "X_test_feats /= std_feat\n",
    "\n",
    "# 预处理: 增加一个偏置值，在 K-NN 中，该步操作并无必要，但增加偏置值对其他分类器如 SVM 等有帮助。\n",
    "X_train_feats = np.hstack([X_train_feats, np.ones((X_train_feats.shape[0], 1))])\n",
    "X_val_feats = np.hstack([X_val_feats, np.ones((X_val_feats.shape[0], 1))])\n",
    "X_test_feats = np.hstack([X_test_feats, np.ones((X_test_feats.shape[0], 1))])"
   ]
  },
  {
   "cell_type": "code",
   "execution_count": 33,
   "metadata": {},
   "outputs": [
    {
     "data": {
      "text/plain": [
       "((5000, 3073), (5000,))"
      ]
     },
     "execution_count": 33,
     "metadata": {},
     "output_type": "execute_result"
    }
   ],
   "source": [
    "X_train_feats.shape , y_train.shape"
   ]
  },
  {
   "cell_type": "code",
   "execution_count": 103,
   "metadata": {},
   "outputs": [],
   "source": [
    "from sklearn.naive_bayes import GaussianNB,BernoulliNB\n",
    "clf = GaussianNB()\n",
    "clf = clf.fit(X_train_feats , y_train)"
   ]
  },
  {
   "cell_type": "code",
   "execution_count": 100,
   "metadata": {},
   "outputs": [],
   "source": [
    "import time"
   ]
  },
  {
   "cell_type": "code",
   "execution_count": 95,
   "metadata": {},
   "outputs": [],
   "source": [
    "\n",
    "from sklearn.neighbors import KNeighborsClassifier\n",
    "clf = KNeighborsClassifier()\n",
    "clf = clf.fit(X_train_feats , y_train)"
   ]
  },
  {
   "cell_type": "code",
   "execution_count": 104,
   "metadata": {},
   "outputs": [
    {
     "name": "stdout",
     "output_type": "stream",
     "text": [
      "运行时间为0.925652027130127s\n"
     ]
    },
    {
     "data": {
      "text/plain": [
       "0.3032"
      ]
     },
     "execution_count": 104,
     "metadata": {},
     "output_type": "execute_result"
    }
   ],
   "source": [
    "old_time = time.time()\n",
    "y_train_pred = clf.predict(X_train_feats)\n",
    "train_acc = sum(y_train_pred==y_train)/len(y_train)\n",
    "current_time = time.time()\n",
    "print(\"运行时间为\" + str(current_time - old_time) + \"s\")\n",
    "train_acc "
   ]
  },
  {
   "cell_type": "code",
   "execution_count": 97,
   "metadata": {},
   "outputs": [
    {
     "data": {
      "text/plain": [
       "0.272"
      ]
     },
     "execution_count": 97,
     "metadata": {},
     "output_type": "execute_result"
    }
   ],
   "source": [
    "y_test_pred = clf.predict(X_test_feats)\n",
    "test_acc = sum(y_test_pred==y_test)/len(y_test)\n",
    "test_acc "
   ]
  },
  {
   "cell_type": "code",
   "execution_count": 98,
   "metadata": {},
   "outputs": [
    {
     "data": {
      "text/plain": [
       "0.228"
      ]
     },
     "execution_count": 98,
     "metadata": {},
     "output_type": "execute_result"
    }
   ],
   "source": [
    "y_val_pred = clf.predict(X_val_feats)\n",
    "val_acc = sum(y_val_pred==y_val)/len(y_val)\n",
    "val_acc "
   ]
  },
  {
   "cell_type": "code",
   "execution_count": 74,
   "metadata": {},
   "outputs": [
    {
     "data": {
      "text/plain": [
       "'\\nGaussianNB\\nfunc     train    test     val\\n\\npix      0.3032   0.292   0.276\\nhist     0.2362   0.246   0.204\\nHOG      0.4208   0.34    0.36\\nHOG+Hist 0.4456   0.356   0.38\\n\\n'"
      ]
     },
     "execution_count": 74,
     "metadata": {},
     "output_type": "execute_result"
    }
   ],
   "source": [
    "'''\n",
    "GaussianNB\n",
    "func     train    test     val\n",
    "\n",
    "pix      0.3032   0.292   0.276             运行时间为0.925652027130127s\n",
    "hist     0.2362   0.246   0.204\n",
    "HOG      0.4208   0.34    0.36\n",
    "HOG+Hist 0.4456   0.356   0.38\n",
    "\n",
    "'''"
   ]
  },
  {
   "cell_type": "code",
   "execution_count": 102,
   "metadata": {},
   "outputs": [
    {
     "data": {
      "text/plain": [
       "'\\nKNN\\n\\nfunc      train      test      val\\n\\npix       0.4542    0.272    0.228     \\nHist      0.4412    0.216    0.176\\nHOG       0.5176    0.288    0.278\\nHOG+Hist  0.546     0.318    0.294\\n'"
      ]
     },
     "execution_count": 102,
     "metadata": {},
     "output_type": "execute_result"
    }
   ],
   "source": [
    "\"\"\"\n",
    "KNN\n",
    "\n",
    "func      train      test      val\n",
    "\n",
    "pix       0.4542    0.272    0.228      运行时间为131.66007900238037s\n",
    "Hist      0.4412    0.216    0.176\n",
    "HOG       0.5176    0.288    0.278\n",
    "HOG+Hist  0.546     0.318    0.294\n",
    "\n",
    "\"\"\""
   ]
  },
  {
   "cell_type": "code",
   "execution_count": 105,
   "metadata": {},
   "outputs": [],
   "source": [
    "train_score = [0.4542,0.4412,0.5176,0.546]\n",
    "test_score = [0.272,0.216,0.288,0.318]\n",
    "val_score = [0.228,0.176,0.278,0.294]"
   ]
  },
  {
   "cell_type": "code",
   "execution_count": null,
   "metadata": {},
   "outputs": [],
   "source": [
    "train_x = []"
   ]
  },
  {
   "cell_type": "code",
   "execution_count": 106,
   "metadata": {},
   "outputs": [],
   "source": [
    "train_score = [0.3032,0.2362,0.4208,0.4456]"
   ]
  },
  {
   "cell_type": "code",
   "execution_count": null,
   "metadata": {},
   "outputs": [],
   "source": [
    "import matplotlib\n",
    "import matplotlib.pyplot as plt\n",
    "import numpy as np\n",
    "\n",
    "\n",
    "labels = ['pixel', 'Hist', 'HOG', 'HOG+Hist']\n",
    "train_value = [0.4542,0.4412,0.5176,0.546]\n",
    "test_value = [0.272,0.216,0.288,0.318]\n",
    "val_value = [0.228,0.176,0.278,0.294]\n",
    "\n",
    "x = np.arange(len(labels))  # the label locations\n",
    "width = 0.9  # the width of the bars\n",
    "\n",
    "fig, ax = plt.subplots()\n",
    "rects1 = ax.bar(x , train_value, width, label='train')\n",
    "rects2 = ax.bar(x + width*1/3, test_valuee, width, label='test')\n",
    "rects3 = ax.bar(x + width*2/3, test_valuee, width, label='test')\n",
    "\n",
    "# Add some text for labels, title and custom x-axis tick labels, etc.\n",
    "ax.set_ylabel('Scores')\n",
    "ax.set_title('Scores by group and gender')\n",
    "ax.set_xticks(x)\n",
    "ax.set_xticklabels(labels)\n",
    "ax.legend()\n",
    "\n",
    "\n",
    "def autolabel(rects):\n",
    "    \"\"\"Attach a text label above each bar in *rects*, displaying its height.\"\"\"\n",
    "    for rect in rects:\n",
    "        height = rect.get_height()\n",
    "        ax.annotate('{}'.format(height),\n",
    "                    xy=(rect.get_x() + rect.get_width() / 2, height),\n",
    "                    xytext=(0, 3),  # 3 points vertical offset\n",
    "                    textcoords=\"offset points\",\n",
    "                    ha='center', va='bottom')\n",
    "\n",
    "\n",
    "autolabel(rects1)\n",
    "autolabel(rects2)\n",
    "\n",
    "fig.tight_layout()\n",
    "\n",
    "plt.show()\n",
    "\n"
   ]
  }
 ],
 "metadata": {
  "kernelspec": {
   "display_name": "Python 3",
   "language": "python",
   "name": "python3"
  },
  "language_info": {
   "codemirror_mode": {
    "name": "ipython",
    "version": 3
   },
   "file_extension": ".py",
   "mimetype": "text/x-python",
   "name": "python",
   "nbconvert_exporter": "python",
   "pygments_lexer": "ipython3",
   "version": "3.8.3"
  },
  "toc": {
   "base_numbering": 1,
   "nav_menu": {},
   "number_sections": true,
   "sideBar": true,
   "skip_h1_title": false,
   "title_cell": "Table of Contents",
   "title_sidebar": "Contents",
   "toc_cell": false,
   "toc_position": {},
   "toc_section_display": true,
   "toc_window_display": false
  }
 },
 "nbformat": 4,
 "nbformat_minor": 4
}
